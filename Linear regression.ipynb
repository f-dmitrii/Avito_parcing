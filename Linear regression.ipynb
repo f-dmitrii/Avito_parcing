{
 "cells": [
  {
   "cell_type": "markdown",
   "metadata": {},
   "source": [
    "## Подготовка данных"
   ]
  },
  {
   "cell_type": "code",
   "execution_count": null,
   "metadata": {},
   "outputs": [],
   "source": [
    "# импортируем необходимые библиотеки\n",
    "import pandas as pd\n",
    "import numpy as np\n",
    "import statsmodels.api as sm # для построения линейной регрессии\n",
    "import matplotlib.pyplot as plt\n",
    "import seaborn as sns\n",
    "from sklearn.preprocessing import StandardScaler # нормализация значений\n",
    "from sklearn.model_selection import train_test_split # сплит на тестовую и тренировочную выборки\n",
    "from sklearn.linear_model import LinearRegression # также для построения линейной регрессии\n",
    "sns.set() # используем стили seaborn по умолчанию"
   ]
  },
  {
   "cell_type": "code",
   "execution_count": null,
   "metadata": {},
   "outputs": [],
   "source": [
    "# импортируем спарсенные с Авито данные\n",
    "df = pd.read_csv('avito_cars.csv')\n",
    "df"
   ]
  },
  {
   "cell_type": "code",
   "execution_count": null,
   "metadata": {},
   "outputs": [],
   "source": [
    "# Всегда полезно открыть в том числе и сам файл и бегло просмотреть данные\n",
    "# Я обнаружил, что некоторые строки были занесены не корректно\n",
    "df['Состояние'].value_counts()"
   ]
  },
  {
   "cell_type": "code",
   "execution_count": null,
   "metadata": {},
   "outputs": [],
   "source": [
    "# как видим у нас 11 битых машин и 28 с некорретными значениями, можем просто удалить их из дата-сета\n",
    "df_no_crash = df[df['Состояние'] == 'не битый']\n",
    "df_no_crash"
   ]
  },
  {
   "cell_type": "code",
   "execution_count": null,
   "metadata": {},
   "outputs": [],
   "source": [
    "# также заменяем владельцев 4+ на просто 4\n",
    "df_no_crash = df_no_crash.replace({'Владельцев по ПТС': '4+'}, '4')"
   ]
  },
  {
   "cell_type": "code",
   "execution_count": null,
   "metadata": {},
   "outputs": [],
   "source": [
    "df_no_crash.columns"
   ]
  },
  {
   "cell_type": "code",
   "execution_count": null,
   "metadata": {},
   "outputs": [],
   "source": [
    "# удаляем ненужные нам столбцы\n",
    "del df_no_crash['Unnamed: 0']\n",
    "del df_no_crash['Состояние']"
   ]
  },
  {
   "cell_type": "code",
   "execution_count": null,
   "metadata": {},
   "outputs": [],
   "source": [
    "# сбрасываем индексы\n",
    "df_no_crash = df_no_crash.reset_index(drop=True)"
   ]
  },
  {
   "cell_type": "code",
   "execution_count": null,
   "metadata": {},
   "outputs": [],
   "source": [
    "# преобразуем в числовые типы данных некоторые столбцы\n",
    "df_no_crash['Год выпуска'] = df_no_crash['Год выпуска'].astype('int')\n",
    "df_no_crash['Пробег'] = df_no_crash['Пробег'].astype('int')\n",
    "df_no_crash['Владельцев по ПТС'] = df_no_crash['Владельцев по ПТС'].astype('int')\n",
    "df_no_crash"
   ]
  },
  {
   "cell_type": "markdown",
   "metadata": {},
   "source": [
    "## Анализ переменных"
   ]
  },
  {
   "cell_type": "code",
   "execution_count": null,
   "metadata": {},
   "outputs": [],
   "source": [
    "# год выпуска\n",
    "sns.distplot(df_no_crash['Год выпуска'])"
   ]
  },
  {
   "cell_type": "code",
   "execution_count": null,
   "metadata": {},
   "outputs": [],
   "source": [
    "q = df_no_crash['Год выпуска'].quantile(0.01)\n",
    "df_clean1 = df_no_crash[df_no_crash['Год выпуска']>q]\n",
    "sns.distplot(df_clean1['Год выпуска'])"
   ]
  },
  {
   "cell_type": "code",
   "execution_count": null,
   "metadata": {},
   "outputs": [],
   "source": [
    "# пробег\n",
    "sns.distplot(df_clean1['Пробег'])"
   ]
  },
  {
   "cell_type": "code",
   "execution_count": null,
   "metadata": {},
   "outputs": [],
   "source": [
    "q = df_clean1['Пробег'].quantile(0.99)\n",
    "df_clean2 = df_clean1[df_clean1['Пробег']<q]\n",
    "sns.distplot(df_clean2['Пробег'])"
   ]
  },
  {
   "cell_type": "code",
   "execution_count": null,
   "metadata": {},
   "outputs": [],
   "source": [
    "# владельцы по ПТС\n",
    "sns.distplot(df_clean2['Владельцев по ПТС'])"
   ]
  },
  {
   "cell_type": "code",
   "execution_count": null,
   "metadata": {},
   "outputs": [],
   "source": [
    "# цена автомобиля\n",
    "sns.distplot(df_clean2['Цена'])"
   ]
  },
  {
   "cell_type": "code",
   "execution_count": null,
   "metadata": {},
   "outputs": [],
   "source": [
    "q = df_clean2['Цена'].quantile(0.99)\n",
    "df_cleaned = df_clean2[df_clean2['Цена']<q]\n",
    "sns.distplot(df_cleaned['Цена'])"
   ]
  },
  {
   "cell_type": "markdown",
   "metadata": {},
   "source": [
    "## Предварительная оценка регрессии (statsmodel)"
   ]
  },
  {
   "cell_type": "code",
   "execution_count": null,
   "metadata": {},
   "outputs": [],
   "source": [
    "y = df_cleaned['Цена']\n",
    "x1 = df_cleaned[['Год выпуска', 'Пробег', 'Владельцев по ПТС']]"
   ]
  },
  {
   "cell_type": "code",
   "execution_count": null,
   "metadata": {},
   "outputs": [],
   "source": [
    "x = sm.add_constant(x1)\n",
    "results = sm.OLS(y,x).fit()\n",
    "results.summary()"
   ]
  },
  {
   "cell_type": "code",
   "execution_count": null,
   "metadata": {},
   "outputs": [],
   "source": [
    "df_cleaned.describe(include='all')"
   ]
  },
  {
   "cell_type": "code",
   "execution_count": null,
   "metadata": {},
   "outputs": [],
   "source": [
    "f, (ax1, ax2, ax3) = plt.subplots(1, 3, sharey=True, figsize =(15,3)) #sharey -> сделать общей ординату y=price\n",
    "ax1.scatter(df_cleaned['Год выпуска'],df_cleaned['Цена'])\n",
    "ax1.set_title('Цена и год выпуска')\n",
    "ax2.scatter(df_cleaned['Владельцев по ПТС'],df_cleaned['Цена'])\n",
    "ax2.set_title('Цена и кол-во владельцев')\n",
    "ax3.scatter(df_cleaned['Пробег'],df_cleaned['Цена'])\n",
    "ax3.set_title('Цена и пробег')\n",
    "plt.show()"
   ]
  },
  {
   "cell_type": "code",
   "execution_count": null,
   "metadata": {},
   "outputs": [],
   "source": [
    "df_cleaned['Цена_лог'] = np.log(df_cleaned['Цена'])"
   ]
  },
  {
   "cell_type": "code",
   "execution_count": null,
   "metadata": {},
   "outputs": [],
   "source": [
    "df_cleaned"
   ]
  },
  {
   "cell_type": "code",
   "execution_count": null,
   "metadata": {},
   "outputs": [],
   "source": [
    "f, (ax1, ax2, ax3) = plt.subplots(1, 3, sharey=True, figsize =(15,3)) #sharey -> сделать общей ординату y=price\n",
    "ax1.scatter(df_cleaned['Год выпуска'],df_cleaned['Цена_лог'])\n",
    "ax1.set_title('Цена и год выпуска')\n",
    "ax2.scatter(df_cleaned['Владельцев по ПТС'],df_cleaned['Цена_лог'])\n",
    "ax2.set_title('Цена и кол-во владельцев')\n",
    "ax3.scatter(df_cleaned['Пробег'],df_cleaned['Цена_лог'])\n",
    "ax3.set_title('Цена и пробег')\n",
    "plt.show()"
   ]
  },
  {
   "cell_type": "code",
   "execution_count": null,
   "metadata": {},
   "outputs": [],
   "source": [
    "from statsmodels.stats.outliers_influence import variance_inflation_factor"
   ]
  },
  {
   "cell_type": "code",
   "execution_count": null,
   "metadata": {},
   "outputs": [],
   "source": [
    "variables = df_cleaned[['Год выпуска','Владельцев по ПТС','Пробег']]\n",
    "vif = pd.DataFrame()"
   ]
  },
  {
   "cell_type": "code",
   "execution_count": null,
   "metadata": {},
   "outputs": [],
   "source": [
    "vif[\"ФИД\"] = [variance_inflation_factor(variables.values, i) for i in range(variables.shape[1])]\n",
    "vif[\"Переменные\"] = variables.columns"
   ]
  },
  {
   "cell_type": "code",
   "execution_count": null,
   "metadata": {},
   "outputs": [],
   "source": [
    "print(vif)"
   ]
  },
  {
   "cell_type": "markdown",
   "metadata": {},
   "source": [
    "## Делаем из марок автомобилей фиктивные (dummy) переменные"
   ]
  },
  {
   "cell_type": "code",
   "execution_count": null,
   "metadata": {},
   "outputs": [],
   "source": [
    "data_with_dummies = pd.get_dummies(df_cleaned, drop_first=True)\n",
    "print(data_with_dummies.head())"
   ]
  },
  {
   "cell_type": "code",
   "execution_count": null,
   "metadata": {},
   "outputs": [],
   "source": [
    "data_with_dummies.columns.values"
   ]
  },
  {
   "cell_type": "code",
   "execution_count": null,
   "metadata": {},
   "outputs": [],
   "source": [
    "# убираем старую цену, она нам больше не нужна\n",
    "data_with_dummies_clean = data_with_dummies.drop(['Цена'],axis=1)"
   ]
  },
  {
   "cell_type": "code",
   "execution_count": null,
   "metadata": {},
   "outputs": [],
   "source": [
    "targets = data_with_dummies_clean['Цена_лог']\n",
    "inputs = data_with_dummies_clean.drop(['Цена_лог'],axis=1)"
   ]
  },
  {
   "cell_type": "markdown",
   "metadata": {},
   "source": [
    "## Линейная регрессия (sklearn)"
   ]
  },
  {
   "cell_type": "code",
   "execution_count": null,
   "metadata": {},
   "outputs": [],
   "source": [
    "scaler = StandardScaler()\n",
    "scaler.fit(inputs)\n",
    "inputs_scaled = scaler.transform(inputs)"
   ]
  },
  {
   "cell_type": "code",
   "execution_count": null,
   "metadata": {},
   "outputs": [],
   "source": [
    "x_train, x_test, y_train, y_test = train_test_split(inputs_scaled, targets, test_size=0.2, random_state=365)"
   ]
  },
  {
   "cell_type": "code",
   "execution_count": null,
   "metadata": {},
   "outputs": [],
   "source": [
    "reg = LinearRegression()\n",
    "reg.fit(x_train,y_train)"
   ]
  },
  {
   "cell_type": "code",
   "execution_count": null,
   "metadata": {},
   "outputs": [],
   "source": [
    "y_hat = reg.predict(x_train)\n",
    "plt.scatter(y_train, y_hat)\n",
    "plt.xlabel('Targets (y_train)',size=18)\n",
    "plt.ylabel('Predictions (y_hat)',size=18)\n",
    "plt.xlim(11,15)\n",
    "plt.ylim(11,15)\n",
    "plt.show()"
   ]
  },
  {
   "cell_type": "code",
   "execution_count": null,
   "metadata": {},
   "outputs": [],
   "source": [
    "sns.distplot(y_train - y_hat)\n",
    "plt.title(\"Функция плотности вероятности остатков\", size=18)\n",
    "plt.show()"
   ]
  },
  {
   "cell_type": "code",
   "execution_count": null,
   "metadata": {},
   "outputs": [],
   "source": [
    "reg.score(x_train,y_train)"
   ]
  },
  {
   "cell_type": "code",
   "execution_count": null,
   "metadata": {},
   "outputs": [],
   "source": [
    "reg.intercept_"
   ]
  },
  {
   "cell_type": "code",
   "execution_count": null,
   "metadata": {},
   "outputs": [],
   "source": [
    "reg_summary = pd.DataFrame(inputs.columns.values, columns=['Переменные'])\n",
    "reg_summary['Веса'] = reg.coef_\n",
    "print(reg_summary)"
   ]
  },
  {
   "cell_type": "code",
   "execution_count": null,
   "metadata": {},
   "outputs": [],
   "source": [
    "y_hat_test = reg.predict(x_test)"
   ]
  },
  {
   "cell_type": "code",
   "execution_count": null,
   "metadata": {},
   "outputs": [],
   "source": [
    "x_test"
   ]
  },
  {
   "cell_type": "code",
   "execution_count": null,
   "metadata": {},
   "outputs": [],
   "source": [
    "plt.scatter(y_test, y_hat_test, alpha=0.2)\n",
    "plt.xlabel('Targets (y_test)',size=18)\n",
    "plt.ylabel('Predictions (y_hat_test)',size=18)\n",
    "plt.xlim(12,15)\n",
    "plt.ylim(12,15)\n",
    "plt.show()"
   ]
  },
  {
   "cell_type": "code",
   "execution_count": null,
   "metadata": {},
   "outputs": [],
   "source": [
    "x"
   ]
  },
  {
   "cell_type": "code",
   "execution_count": null,
   "metadata": {},
   "outputs": [],
   "source": [
    "x = sm.add_constant(inputs)\n",
    "results = sm.OLS(targets,x).fit()\n",
    "results.summary()"
   ]
  },
  {
   "cell_type": "code",
   "execution_count": null,
   "metadata": {},
   "outputs": [],
   "source": [
    "y_test = y_test.reset_index(drop=True) # не забываем дропнуть индексы, потому что наш дата сет был \"перемешан\"\n",
    "df_pf = pd.DataFrame(np.exp(y_hat_test), columns=['Prediction']) # np.exp отвечает за преобразование логарифма\n",
    "df_pf['Целевое значение'] = np.exp(y_test)\n",
    "df_pf['Разница'] = df_pf['Target'] - df_pf['Предсказанное значение']\n",
    "df_pf['Разница в %'] = np.absolute(df_pf['Разница']/df_pf['Целевое значение']*100)\n",
    "print(df_pf)"
   ]
  },
  {
   "cell_type": "code",
   "execution_count": null,
   "metadata": {},
   "outputs": [],
   "source": [
    "df_pf.to_excel('prediction.xls')"
   ]
  },
  {
   "cell_type": "code",
   "execution_count": null,
   "metadata": {},
   "outputs": [],
   "source": [
    "polo = -195.7369 + 0.1043*2015 + 62000*(-0.00000089) - 1.1371\n",
    "np.exp(polo)"
   ]
  }
 ],
 "metadata": {
  "kernelspec": {
   "display_name": "Python 3",
   "language": "python",
   "name": "python3"
  },
  "language_info": {
   "codemirror_mode": {
    "name": "ipython",
    "version": 3
   },
   "file_extension": ".py",
   "mimetype": "text/x-python",
   "name": "python",
   "nbconvert_exporter": "python",
   "pygments_lexer": "ipython3",
   "version": "3.7.4"
  }
 },
 "nbformat": 4,
 "nbformat_minor": 4
}
