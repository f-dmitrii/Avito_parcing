{
 "cells": [
  {
   "cell_type": "code",
   "execution_count": null,
   "metadata": {},
   "outputs": [],
   "source": [
    "from bs4 import BeautifulSoup\n",
    "from urllib.parse import urljoin\n",
    "from selenium import webdriver\n",
    "from selenium.webdriver.chrome.options import Options\n",
    "import pandas as pd"
   ]
  },
  {
   "cell_type": "code",
   "execution_count": null,
   "metadata": {},
   "outputs": [],
   "source": [
    "from requests_html import HTMLSession\n",
    "session = HTMLSession()"
   ]
  },
  {
   "cell_type": "code",
   "execution_count": null,
   "metadata": {},
   "outputs": [],
   "source": [
    "base_site = 'https://www.avito.ru/'\n",
    "a = 'https://www.avito.ru/kazan/avtomobili/volkswagen-ASgBAgICAUTgtg24mSg?cd=1&radius=0&p='\n",
    "parsing_links = [(a + str(i)) for i in range(1,15)]"
   ]
  },
  {
   "cell_type": "code",
   "execution_count": null,
   "metadata": {},
   "outputs": [],
   "source": [
    "test = session.get(parsing_links[1])"
   ]
  },
  {
   "cell_type": "code",
   "execution_count": null,
   "metadata": {},
   "outputs": [],
   "source": [
    "test.status_code"
   ]
  },
  {
   "cell_type": "code",
   "execution_count": null,
   "metadata": {},
   "outputs": [],
   "source": [
    "with open('avito_test.html', 'wb') as file:\n",
    "    file.write(test.content)"
   ]
  },
  {
   "cell_type": "code",
   "execution_count": null,
   "metadata": {},
   "outputs": [],
   "source": [
    "all_links = []\n",
    "\n",
    "for i in parsing_links:\n",
    "    r = session.get(i)\n",
    "    snippet_links = r.html.find('.snippet-link')\n",
    "    stop_elements = '?'\n",
    "    links = [snippet_links.attrs['href'] for snippet_links in snippet_links if stop_elements not in snippet_links.attrs['href']]    \n",
    "    full_urls = [urljoin(base_site, url) for url in links]\n",
    "    all_links.extend(full_urls)"
   ]
  },
  {
   "cell_type": "code",
   "execution_count": null,
   "metadata": {},
   "outputs": [],
   "source": [
    "len(all_links)"
   ]
  },
  {
   "cell_type": "code",
   "execution_count": null,
   "metadata": {},
   "outputs": [],
   "source": [
    "opts = Options()\n",
    "opts.headless = True\n",
    "browser = webdriver.Chrome(options=opts, executable_path=r'/Users/dmitrii/Documents/ChromeWebDriver/chromedriver')"
   ]
  },
  {
   "cell_type": "code",
   "execution_count": null,
   "metadata": {},
   "outputs": [],
   "source": [
    "marka_car = []\n",
    "model_car = []\n",
    "year_car = []\n",
    "probeg_car = []\n",
    "condition_car = []\n",
    "owners_car = []\n",
    "price_car = []"
   ]
  },
  {
   "cell_type": "code",
   "execution_count": null,
   "metadata": {},
   "outputs": [],
   "source": [
    "wrong_urls = []"
   ]
  },
  {
   "cell_type": "code",
   "execution_count": null,
   "metadata": {},
   "outputs": [],
   "source": [
    "for i in range(400,751):\n",
    "    try:\n",
    "        browser.get(all_links[i])\n",
    "        car = browser.page_source\n",
    "        soup = BeautifulSoup(car, 'html5lib')\n",
    "    \n",
    "        item_params = soup.find_all(class_ = \"item-params-list-item\")\n",
    "    \n",
    "        marka = str(item_params[0].text.strip(' Марка:'))\n",
    "        marka_car.append(marka)\n",
    "    \n",
    "        model = str(item_params[1].text.strip(' Модель:'))\n",
    "        model_car.append(model)\n",
    "    \n",
    "        year = str(item_params[4].text.strip('Год выпуска:'))\n",
    "        year_car.append(year)\n",
    "    \n",
    "        probeg = str(item_params[5].text.strip('Пробег: \\xa0км'))\n",
    "        probeg_car.append(probeg)\n",
    "    \n",
    "        condition = str(item_params[6].text.strip(' ').strip('Состояние:').strip(' '))\n",
    "        condition_car.append(condition)\n",
    "    \n",
    "        owners = str(item_params[7].text.strip(' ').strip('Владельцев по ПТС:'))\n",
    "        owners_car.append(owners)\n",
    "    \n",
    "        price = soup.find(class_ ='js-item-price')\n",
    "        real_price = int(price.attrs['content'])\n",
    "        price_car.append(real_price)\n",
    "    \n",
    "    except Exception:\n",
    "        wrong_urls.append(all_links[i])\n",
    "        continue"
   ]
  },
  {
   "cell_type": "code",
   "execution_count": null,
   "metadata": {},
   "outputs": [],
   "source": [
    "avito_cars = pd.DataFrame()"
   ]
  },
  {
   "cell_type": "code",
   "execution_count": null,
   "metadata": {},
   "outputs": [],
   "source": [
    "avito_cars[\"Марка\"] = marka_car\n",
    "avito_cars[\"Модель\"] = model_car\n",
    "avito_cars[\"Год выпуска\"] = year_car\n",
    "avito_cars[\"Пробег\"] = probeg_car\n",
    "avito_cars[\"Состояние\"] = condition_car\n",
    "avito_cars[\"Владельцев по ПТС\"] = owners_car\n",
    "avito_cars[\"Цена\"] = price_car"
   ]
  },
  {
   "cell_type": "code",
   "execution_count": null,
   "metadata": {},
   "outputs": [],
   "source": [
    "avito_cars"
   ]
  },
  {
   "cell_type": "code",
   "execution_count": null,
   "metadata": {},
   "outputs": [],
   "source": [
    "avito_cars.to_csv('avito_cars.csv')"
   ]
  },
  {
   "cell_type": "code",
   "execution_count": null,
   "metadata": {},
   "outputs": [],
   "source": [
    "session.close()"
   ]
  },
  {
   "cell_type": "code",
   "execution_count": null,
   "metadata": {},
   "outputs": [],
   "source": [
    "browser.quit()"
   ]
  }
 ],
 "metadata": {
  "kernelspec": {
   "display_name": "Python 3",
   "language": "python",
   "name": "python3"
  },
  "language_info": {
   "codemirror_mode": {
    "name": "ipython",
    "version": 3
   },
   "file_extension": ".py",
   "mimetype": "text/x-python",
   "name": "python",
   "nbconvert_exporter": "python",
   "pygments_lexer": "ipython3",
   "version": "3.8.3"
  }
 },
 "nbformat": 4,
 "nbformat_minor": 4
}
